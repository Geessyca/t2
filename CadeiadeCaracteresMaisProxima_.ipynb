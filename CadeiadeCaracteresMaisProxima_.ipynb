{
  "nbformat": 4,
  "nbformat_minor": 0,
  "metadata": {
    "colab": {
      "provenance": [],
      "authorship_tag": "ABX9TyOCDqeki/7YN6kt2Mlri6Ww",
      "include_colab_link": true
    },
    "kernelspec": {
      "name": "python3",
      "display_name": "Python 3"
    },
    "language_info": {
      "name": "python"
    }
  },
  "cells": [
    {
      "cell_type": "markdown",
      "metadata": {
        "id": "view-in-github",
        "colab_type": "text"
      },
      "source": [
        "<a href=\"https://colab.research.google.com/github/Geessyca/t2/blob/main/CadeiadeCaracteresMaisProxima_.ipynb\" target=\"_parent\"><img src=\"https://colab.research.google.com/assets/colab-badge.svg\" alt=\"Open In Colab\"/></a>"
      ]
    },
    {
      "cell_type": "markdown",
      "source": [
        "## DNA sequence dataset"
      ],
      "metadata": {
        "id": "GCjZN0xUdig6"
      }
    },
    {
      "cell_type": "markdown",
      "source": [
        "### String de [sequência de DNA](https://www.kaggle.com/datasets/nageshsingh/dna-sequence-dataset/datatps://)"
      ],
      "metadata": {
        "id": "xlOlc1Q7d8Eo"
      }
    },
    {
      "cell_type": "code",
      "execution_count": 96,
      "metadata": {
        "id": "f01HodABcmlH"
      },
      "outputs": [],
      "source": [
        "string_dna=\"ATGCCCCAACTAAATACCGCCGTATGACCCACCATAATTACCCCCATACTCCTGACACTATTTCTCGTCACCCAACTAAAAATATTAAATTCAAATTACCATCTACCCCCCTCACCAAAACCCATAAAAATAAAAAACTACAATAAACCCTGAGAACCAAAATGAACGAAAATCTATTCGCTTCATTCGCTGCCCCCACAATCCTAGATGAACGAAAATCTATTCGCTTCATTCGCTGCCCCCACAATCCTAGGCTTACCCGCCGCAGTACTAATCATTCTATTCCCCCCTCTACTGGTCCCCACTTCTAAACATCTCATCAACAACCGACTAATTACCACCCAACAATGACTAATTCAACTGACCTCAAAACAAATAATAACTATACACAGCACTAAAGGACGAACCTGATCTCTCATACTAGTATCCTTAATCATTTTTATTACCACAACCAATCTTCTTGGGCTTCTACCCCACTCATTCACACCAACCACCCAACTATCTATAAACCTAGCCATGGCTATCCCCCTATGAGCAGGCGCAGTAGTCATAGGCTTTCGCTTTAAGACTAAAAATGCCCTAGCCCACTTCTTACCGCAAGGCACACCTACACCCCTTATCCCCATACTAGTTATCATCGAAACTATTAGCCTACTCATTCAACCAATAGCCTTAGCCGTACGTCTAACCGCTAACATTACTGCAGGCCACCTACTCATGCACCTAATTGGAAGCGCCACACTAGCATTATCAACTATCAATCTACCCTATGCACTCATTATCTTCACAATTCTAATCCTACTGACTATTCTAGAGATCGCCGTCGCCTTAATCCAAGCCTACGTTTTTACACTTCTAGTGAGCCTCTACCTGCACGACAACACATAAATGGCCTCGCGCTGGTGGCGGTGGCGACGCGGCTGCTCCTGGAGGCCGGCGGCGCGGAGCTCCGGGCCCGGCTCCCCAGGCCGTGCGGGACCGTCGGGGCCGAGCGCCGCTGCCGACGTCCGCGCGCAGGTTCATAGGCGGAAGGGACTTGACTTGTCTCAGATACCCTATATTAATCTTGTGAAGCATTTAACATCTGCCTGTCCAAATGTATGTCGTATATCACGGTTTCATCACACAACCCCAGACAGTAAAACACACAGTGGTGAAAAATACACCGATCCTTTCAAACTCGGTTGGAGAGACTTGAAAGGTCTGTATGAGGACATTAGAAAGGAACTGCTTATATCAACATCAGAACTTAAGGAAATGTCTGAGTACTACTTTGATGGGAAAGGGAAAGCCTTTCGACCAATTATTGTGGCGCTAATGGCCCGAGCATGCAATATTCATCATAACAACTCCCGACATGTGCAAGCCAGCCAGCGCACCATAGCCTTAATTGCAGAAATGATCCACACTGCTAGTCTGGTTCACGATGACGTTATTGACGATGCAAGTTCTCGAAGAGGAAAACACACAGTTAATAAGATCTGGGGTGAAAAGAAGGCTGTTCTTGCTGGAGATTTAATTCTTTCTGCAGCATCTATAGCTCTGGCACGAATTGGAAATACAACTGTTATATCTATTTTAACCCAAGTTATTGAAGATTTGGTGCGTGGTGAATTTCTTCAGCTCGGGTCAAAAGAAAATGAGAATGAAAGATTTGCACACTACCTTGAGAAGACGTTCAAGAAGACCGCCAGCCTGATAGCCAACAGTTGTAAAGCAGTCTCTGTTCTAGGATGTCCCGACCCAGTGGTGCATGAGATCGCCTATCAGTACGGAAAAAATGTAGGAATAGCTTTTCAG\""
      ]
    },
    {
      "cell_type": "markdown",
      "source": [
        "### Lista de sequência de DNA"
      ],
      "metadata": {
        "id": "MeWKeMJkdzTv"
      }
    },
    {
      "cell_type": "code",
      "source": [
        "lista_dna = [string_dna[i:i+6] for i in range(0, len(string_dna), 6)]\n",
        "lista_dna = lista_dna[:300]\n",
        "print(f\"Quantidade de itens da lista: {len(lista_dna)} \\n5 primeiros itens dessa lista: {','.join(lista_dna[:5])}\")"
      ],
      "metadata": {
        "colab": {
          "base_uri": "https://localhost:8080/"
        },
        "id": "2TqN3PyedUuI",
        "outputId": "f4f106b6-222b-40ff-c6a5-d25f2b8ae119"
      },
      "execution_count": 97,
      "outputs": [
        {
          "output_type": "stream",
          "name": "stdout",
          "text": [
            "Quantidade de itens da lista: 300 \n",
            "5 primeiros itens dessa lista: ATGCCC,CAACTA,AATACC,GCCGTA,TGACCC\n"
          ]
        }
      ]
    },
    {
      "cell_type": "markdown",
      "source": [
        "## Metahelistcas"
      ],
      "metadata": {
        "id": "65x_Pdxle3Vu"
      }
    },
    {
      "cell_type": "markdown",
      "source": [
        "###Importações"
      ],
      "metadata": {
        "id": "OPfeI8lrfrH4"
      }
    },
    {
      "cell_type": "code",
      "source": [
        "import random\n",
        "import time"
      ],
      "metadata": {
        "id": "tqHpMIjJfdtB"
      },
      "execution_count": 98,
      "outputs": []
    },
    {
      "cell_type": "markdown",
      "source": [
        "###Avaliações"
      ],
      "metadata": {
        "id": "1NK-P1fdfwPP"
      }
    },
    {
      "cell_type": "code",
      "source": [
        "def distancia_hamming(s1, s2):\n",
        "    \"\"\"Calcula a distância de Hamming entre duas cadeias de caracteres.\"\"\"\n",
        "    distancia = 0\n",
        "    for c1, c2 in zip(s1, s2):\n",
        "        if c1 != c2:\n",
        "            distancia += 1\n",
        "    return distancia\n",
        "\n",
        "def funcao_objetivo(cadeia, lista_dna):\n",
        "    \"\"\"Soma das distâncias de Hamming entre a cadeia e todas as cadeias em lista_dna.\"\"\"\n",
        "    total_distancia = 0\n",
        "    for dna in lista_dna:\n",
        "        total_distancia += distancia_hamming(cadeia, dna)\n",
        "    return total_distancia"
      ],
      "metadata": {
        "id": "ObAxiSkCfzrx"
      },
      "execution_count": 99,
      "outputs": []
    },
    {
      "cell_type": "markdown",
      "source": [
        "###GRASP"
      ],
      "metadata": {
        "id": "u1K9FkKpe6CI"
      }
    },
    {
      "cell_type": "code",
      "source": [
        "def grasp(lista_dna, alfabeto='ACGT', max_iter=100):\n",
        "    comprimento = len(lista_dna[0])\n",
        "    melhor_solucao = None\n",
        "    melhor_valor = float('inf')\n",
        "    inicio_total = time.time()\n",
        "    for _ in range(max_iter):\n",
        "        # Construção: solução aleatória\n",
        "        atual = ''.join(random.choice(alfabeto) for _ in range(comprimento))\n",
        "        valor_atual = funcao_objetivo(atual, lista_dna)\n",
        "        # Busca Local BL2: first improvement\n",
        "        melhorou = True\n",
        "        while melhorou:\n",
        "            melhorou = False\n",
        "            posicoes = list(range(comprimento))\n",
        "            random.shuffle(posicoes)\n",
        "            for i in posicoes:\n",
        "                for c in alfabeto:\n",
        "                    if c == atual[i]:\n",
        "                        continue\n",
        "                    vizinho = atual[:i] + c + atual[i+1:]\n",
        "                    valor_vizinho = funcao_objetivo(vizinho, lista_dna)\n",
        "                    if valor_vizinho < valor_atual:\n",
        "                        atual = vizinho\n",
        "                        valor_atual = valor_vizinho\n",
        "                        melhorou = True\n",
        "                        break  # First improvement: sai do loop de caracteres\n",
        "                if melhorou:\n",
        "                    break  # Reinicia varredura de posições\n",
        "        # Atualiza melhor global\n",
        "        if valor_atual < melhor_valor:\n",
        "            melhor_valor = valor_atual\n",
        "            melhor_solucao = atual\n",
        "    tempo_total = time.time() - inicio_total\n",
        "    return melhor_solucao, melhor_valor, tempo_total\n"
      ],
      "metadata": {
        "id": "2h5jxk_UfYeX"
      },
      "execution_count": 107,
      "outputs": []
    },
    {
      "cell_type": "markdown",
      "source": [
        "###Algortimo Genetico"
      ],
      "metadata": {
        "id": "wQDWXF1bf15-"
      }
    },
    {
      "cell_type": "code",
      "source": [
        "def inicializar_populacao(tamanho, comprimento, alfabeto):\n",
        "    return [\n",
        "        ''.join(random.choice(alfabeto) for _ in range(comprimento))\n",
        "        for _ in range(tamanho)\n",
        "    ]\n",
        "\n",
        "def crossover(pai1, pai2):\n",
        "    ponto = random.randint(1, len(pai1) - 2)\n",
        "    filho1 = pai1[:ponto] + pai2[ponto:]\n",
        "    filho2 = pai2[:ponto] + pai1[ponto:]\n",
        "    return filho1, filho2\n",
        "\n",
        "def mutacao(cadeia, alfabeto, taxa=0.05):\n",
        "    nova = list(cadeia)\n",
        "    for i in range(len(nova)):\n",
        "        if random.random() < taxa:\n",
        "            nova[i] = random.choice([c for c in alfabeto if c != nova[i]])\n",
        "    return ''.join(nova)\n",
        "\n",
        "def selecao_roleta(populacao, aptidoes):\n",
        "    soma = sum(aptidoes)\n",
        "    pick = random.uniform(0, soma)\n",
        "    atual = 0\n",
        "    for individuo, aptidao in zip(populacao, aptidoes):\n",
        "        atual += aptidao\n",
        "        if atual > pick:\n",
        "            return individuo\n",
        "    return populacao[-1]\n",
        "\n",
        "def ag_dna(lista_dna, alfabeto='ACGT', geracoes=100, tamanho_pop=300, taxa_crossover=0.5, taxa_mutacao=0.05):\n",
        "    inicio = time.time()\n",
        "    comprimento = len(lista_dna[0])\n",
        "    populacao = inicializar_populacao(tamanho_pop, comprimento, alfabeto)\n",
        "\n",
        "    for geracao in range(geracoes):\n",
        "        aptidoes = [1 / (1 + funcao_objetivo(ind, lista_dna)) for ind in populacao]  # Quanto menor a função objetivo, maior a aptidão\n",
        "\n",
        "        # Seleção para crossover\n",
        "        nova_populacao = []\n",
        "        num_crossover = int(tamanho_pop * taxa_crossover // 2) * 2  # Sempre par\n",
        "        for _ in range(num_crossover // 2):\n",
        "            pai1 = selecao_roleta(populacao, aptidoes)\n",
        "            pai2 = selecao_roleta(populacao, aptidoes)\n",
        "            filho1, filho2 = crossover(pai1, pai2)\n",
        "            nova_populacao.extend([filho1, filho2])\n",
        "\n",
        "        # Completa a população com indivíduos da geração anterior (elitismo simples)\n",
        "        while len(nova_populacao) < tamanho_pop:\n",
        "            individuo = selecao_roleta(populacao, aptidoes)\n",
        "            nova_populacao.append(individuo)\n",
        "\n",
        "        # Mutação\n",
        "        populacao = [mutacao(ind, alfabeto, taxa_mutacao) for ind in nova_populacao]\n",
        "\n",
        "    # Seleciona o melhor indivíduo da última geração\n",
        "    valores = [funcao_objetivo(ind, lista_dna) for ind in populacao]\n",
        "    melhor_valor = min(valores)\n",
        "    melhor_indice = valores.index(melhor_valor)\n",
        "    melhor_individuo = populacao[melhor_indice]\n",
        "    tempo_total = time.time() - inicio\n",
        "\n",
        "    return melhor_individuo, melhor_valor, tempo_total\n"
      ],
      "metadata": {
        "id": "wnk5jxGXf6CE"
      },
      "execution_count": 101,
      "outputs": []
    },
    {
      "cell_type": "markdown",
      "source": [
        "##Execuções"
      ],
      "metadata": {
        "id": "aN6yrixwf7Qb"
      }
    },
    {
      "cell_type": "markdown",
      "source": [
        "###I"
      ],
      "metadata": {
        "id": "VxvRY4wiCa0v"
      }
    },
    {
      "cell_type": "code",
      "source": [
        "melhor, valor, tempo = ag_dna(lista_dna)\n",
        "print(\"Melhor cadeia encontrada:\", melhor)\n",
        "print(\"Valor da função objetivo:\", valor)\n",
        "print(\"Tempo computacional:\", tempo, \"segundos\")"
      ],
      "metadata": {
        "colab": {
          "base_uri": "https://localhost:8080/"
        },
        "id": "C10mekKjf-fx",
        "outputId": "46d5f577-f6bc-492b-9c06-27a6b9944363"
      },
      "execution_count": 102,
      "outputs": [
        {
          "output_type": "stream",
          "name": "stdout",
          "text": [
            "Melhor cadeia encontrada: CCAATA\n",
            "Valor da função objetivo: 1233\n",
            "Tempo computacional: 6.920978784561157 segundos\n"
          ]
        }
      ]
    },
    {
      "cell_type": "code",
      "source": [
        "melhor_cadeia, valor_funcao, tempo = grasp(lista_dna)\n",
        "print(\"Melhor cadeia encontrada:\", melhor_cadeia)\n",
        "print(\"Valor da função objetivo:\", valor_funcao)\n",
        "print(\"Tempo computacional:\", tempo, \"segundos\")"
      ],
      "metadata": {
        "colab": {
          "base_uri": "https://localhost:8080/"
        },
        "id": "6rmnnpBZgCws",
        "outputId": "67e4d2b1-3e71-49ea-dc3d-14b965b8d2d0"
      },
      "execution_count": 108,
      "outputs": [
        {
          "output_type": "stream",
          "name": "stdout",
          "text": [
            "Melhor cadeia encontrada: ATAATA\n",
            "Valor da função objetivo: 1214\n",
            "Tempo computacional: 0.9902424812316895 segundos\n"
          ]
        }
      ]
    },
    {
      "cell_type": "markdown",
      "source": [
        "###II"
      ],
      "metadata": {
        "id": "sHrCLHmuCjm3"
      }
    },
    {
      "cell_type": "code",
      "source": [
        "melhor, valor, tempo = ag_dna(lista_dna)\n",
        "print(\"Melhor cadeia encontrada:\", melhor)\n",
        "print(\"Valor da função objetivo:\", valor)\n",
        "print(\"Tempo computacional:\", tempo, \"segundos\")"
      ],
      "metadata": {
        "colab": {
          "base_uri": "https://localhost:8080/"
        },
        "outputId": "c6646514-b9d6-4588-c03f-69e201507a42",
        "id": "Bwuzq2NlCjm3"
      },
      "execution_count": 104,
      "outputs": [
        {
          "output_type": "stream",
          "name": "stdout",
          "text": [
            "Melhor cadeia encontrada: CTAATA\n",
            "Valor da função objetivo: 1215\n",
            "Tempo computacional: 7.385656356811523 segundos\n"
          ]
        }
      ]
    },
    {
      "cell_type": "code",
      "source": [
        "melhor_cadeia, valor_funcao, tempo = grasp(lista_dna)\n",
        "print(\"Melhor cadeia encontrada:\", melhor_cadeia)\n",
        "print(\"Valor da função objetivo:\", valor_funcao)\n",
        "print(\"Tempo computacional:\", tempo, \"segundos\")"
      ],
      "metadata": {
        "colab": {
          "base_uri": "https://localhost:8080/"
        },
        "outputId": "39b1ff3d-f7c0-40c7-9fdc-554639ec7d85",
        "id": "qbMImmPKCjm4"
      },
      "execution_count": 111,
      "outputs": [
        {
          "output_type": "stream",
          "name": "stdout",
          "text": [
            "Melhor cadeia encontrada: ATAATA\n",
            "Valor da função objetivo: 1214\n",
            "Tempo computacional: 0.8966758251190186 segundos\n"
          ]
        }
      ]
    },
    {
      "cell_type": "markdown",
      "source": [
        "###Estrutura da solução"
      ],
      "metadata": {
        "id": "DBMdnyf0CdtI"
      }
    },
    {
      "cell_type": "code",
      "source": [
        "solucao=\"ACGTGC\""
      ],
      "metadata": {
        "id": "cFkxIFr-9sDn"
      },
      "execution_count": 106,
      "outputs": []
    }
  ]
}