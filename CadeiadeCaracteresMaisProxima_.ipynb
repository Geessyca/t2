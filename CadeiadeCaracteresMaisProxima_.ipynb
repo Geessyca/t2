{
  "nbformat": 4,
  "nbformat_minor": 0,
  "metadata": {
    "colab": {
      "provenance": [],
      "authorship_tag": "ABX9TyOE9lL66YbuwGWI5ob7emxA",
      "include_colab_link": true
    },
    "kernelspec": {
      "name": "python3",
      "display_name": "Python 3"
    },
    "language_info": {
      "name": "python"
    }
  },
  "cells": [
    {
      "cell_type": "markdown",
      "metadata": {
        "id": "view-in-github",
        "colab_type": "text"
      },
      "source": [
        "<a href=\"https://colab.research.google.com/github/Geessyca/t2/blob/main/CadeiadeCaracteresMaisProxima_.ipynb\" target=\"_parent\"><img src=\"https://colab.research.google.com/assets/colab-badge.svg\" alt=\"Open In Colab\"/></a>"
      ]
    },
    {
      "cell_type": "markdown",
      "source": [
        "## DNA sequence dataset"
      ],
      "metadata": {
        "id": "GCjZN0xUdig6"
      }
    },
    {
      "cell_type": "markdown",
      "source": [
        "### String de [sequência de DNA](https://www.kaggle.com/datasets/nageshsingh/dna-sequence-dataset/datatps://)"
      ],
      "metadata": {
        "id": "xlOlc1Q7d8Eo"
      }
    },
    {
      "cell_type": "code",
      "execution_count": null,
      "metadata": {
        "id": "f01HodABcmlH"
      },
      "outputs": [],
      "source": [
        "string_dna=\"ATGCCCCAACTAAATACCGCCGTATGACCCACCATAATTACCCCCATACTCCTGACACTATTTCTCGTCACCCAACTAAAAATATTAAATTCAAATTACCATCTACCCCCCTCACCAAAACCCATAAAAATAAAAAACTACAATAAACCCTGAGAACCAAAATGAACGAAAATCTATTCGCTTCATTCGCTGCCCCCACAATCCTAGATGAACGAAAATCTATTCGCTTCATTCGCTGCCCCCACAATCCTAGGCTTACCCGCCGCAGTACTAATCATTCTATTCCCCCCTCTACTGGTCCCCACTTCTAAACATCTCATCAACAACCGACTAATTACCACCCAACAATGACTAATTCAACTGACCTCAAAACAAATAATAACTATACACAGCACTAAAGGACGAACCTGATCTCTCATACTAGTATCCTTAATCATTTTTATTACCACAACCAATCTTCTTGGGCTTCTACCCCACTCATTCACACCAACCACCCAACTATCTATAAACCTAGCCATGGCTATCCCCCTATGAGCAGGCGCAGTAGTCATAGGCTTTCGCTTTAAGACTAAAAATGCCCTAGCCCACTTCTTACCGCAAGGCACACCTACACCCCTTATCCCCATACTAGTTATCATCGAAACTATTAGCCTACTCATTCAACCAATAGCCTTAGCCGTACGTCTAACCGCTAACATTACTGCAGGCCACCTACTCATGCACCTAATTGGAAGCGCCACACTAGCATTATCAACTATCAATCTACCCTATGCACTCATTATCTTCACAATTCTAATCCTACTGACTATTCTAGAGATCGCCGTCGCCTTAATCCAAGCCTACGTTTTTACACTTCTAGTGAGCCTCTACCTGCACGACAACACATAAATGGCCTCGCGCTGGTGGCGGTGGCGACGCGGCTGCTCCTGGAGGCCGGCGGCGCGGAGCTCCGGGCCCGGCTCCCCAGGCCGTGCGGGACCGTCGGGGCCGAGCGCCGCTGCCGACGTCCGCGCGCAGGTTCATAGGCGGAAGGGACTTGACTTGTCTCAGATACCCTATATTAATCTTGTGAAGCATTTAACATCTGCCTGTCCAAATGTATGTCGTATATCACGGTTTCATCACACAACCCCAGACAGTAAAACACACAGTGGTGAAAAATACACCGATCCTTTCAAACTCGGTTGGAGAGACTTGAAAGGTCTGTATGAGGACATTAGAAAGGAACTGCTTATATCAACATCAGAACTTAAGGAAATGTCTGAGTACTACTTTGATGGGAAAGGGAAAGCCTTTCGACCAATTATTGTGGCGCTAATGGCCCGAGCATGCAATATTCATCATAACAACTCCCGACATGTGCAAGCCAGCCAGCGCACCATAGCCTTAATTGCAGAAATGATCCACACTGCTAGTCTGGTTCACGATGACGTTATTGACGATGCAAGTTCTCGAAGAGGAAAACACACAGTTAATAAGATCTGGGGTGAAAAGAAGGCTGTTCTTGCTGGAGATTTAATTCTTTCTGCAGCATCTATAGCTCTGGCACGAATTGGAAATACAACTGTTATATCTATTTTAACCCAAGTTATTGAAGATTTGGTGCGTGGTGAATTTCTTCAGCTCGGGTCAAAAGAAAATGAGAATGAAAGATTTGCACACTACCTTGAGAAGACGTTCAAGAAGACCGCCAGCCTGATAGCCAACAGTTGTAAAGCAGTCTCTGTTCTAGGATGTCCCGACCCAGTGGTGCATGAGATCGCCTATCAGTACGGAAAAAATGTAGGAATAGCTTTTCAG\""
      ]
    },
    {
      "cell_type": "markdown",
      "source": [
        "### Lista de sequência de DNA"
      ],
      "metadata": {
        "id": "MeWKeMJkdzTv"
      }
    },
    {
      "cell_type": "code",
      "source": [
        "lista_dna = [string_dna[i:i+6] for i in range(0, len(string_dna), 6)]\n",
        "lista_dna = lista_dna[:300]\n",
        "print(f\"Quantidade de itens da lista: {len(lista_dna)} \\n5 primeiros itens dessa lista: {','.join(lista_dna[:5])}\")"
      ],
      "metadata": {
        "colab": {
          "base_uri": "https://localhost:8080/"
        },
        "id": "2TqN3PyedUuI",
        "outputId": "aee12a37-b8da-45fb-a099-9b3b927c38f6"
      },
      "execution_count": null,
      "outputs": [
        {
          "output_type": "stream",
          "name": "stdout",
          "text": [
            "Quantidade de itens da lista: 300 \n",
            "5 primeiros itens dessa lista: ATGCCC,CAACTA,AATACC,GCCGTA,TGACCC\n"
          ]
        }
      ]
    },
    {
      "cell_type": "markdown",
      "source": [
        "## Metahelistcas"
      ],
      "metadata": {
        "id": "65x_Pdxle3Vu"
      }
    },
    {
      "cell_type": "markdown",
      "source": [
        "###Importações"
      ],
      "metadata": {
        "id": "OPfeI8lrfrH4"
      }
    },
    {
      "cell_type": "code",
      "source": [
        "import random\n",
        "import time"
      ],
      "metadata": {
        "id": "tqHpMIjJfdtB"
      },
      "execution_count": null,
      "outputs": []
    },
    {
      "cell_type": "markdown",
      "source": [
        "###Avaliações"
      ],
      "metadata": {
        "id": "1NK-P1fdfwPP"
      }
    },
    {
      "cell_type": "code",
      "source": [
        "def distancia_hamming(s1, s2):\n",
        "    \"\"\"Calcula a distância de Hamming entre duas cadeias de caracteres.\"\"\"\n",
        "    distancia = 0\n",
        "    for c1, c2 in zip(s1, s2):\n",
        "        if c1 != c2:\n",
        "            distancia += 1\n",
        "    return distancia\n",
        "\n",
        "def funcao_objetivo(cadeia, lista_dna):\n",
        "    \"\"\"Soma das distâncias de Hamming entre a cadeia e todas as cadeias em lista_dna.\"\"\"\n",
        "    total_distancia = 0\n",
        "    for dna in lista_dna:\n",
        "        total_distancia += distancia_hamming(cadeia, dna)\n",
        "    return total_distancia"
      ],
      "metadata": {
        "id": "ObAxiSkCfzrx"
      },
      "execution_count": null,
      "outputs": []
    },
    {
      "cell_type": "markdown",
      "source": [
        "###GRASP"
      ],
      "metadata": {
        "id": "u1K9FkKpe6CI"
      }
    },
    {
      "cell_type": "code",
      "source": [
        "def melhor_vizinho(atual, lista_dna, alfabeto):\n",
        "    \"\"\"Gera todos os vizinhos por substituição e retorna o melhor vizinho.\"\"\"\n",
        "    melhor = atual\n",
        "    melhor_valor = funcao_objetivo(atual, lista_dna)\n",
        "    for i in range(len(atual)):\n",
        "        for c in alfabeto:\n",
        "            if c != atual[i]:\n",
        "                vizinho = atual[:i] + c + atual[i+1:]\n",
        "                valor = funcao_objetivo(vizinho, lista_dna)\n",
        "                if valor < melhor_valor:\n",
        "                    melhor = vizinho\n",
        "                    melhor_valor = valor\n",
        "    return melhor, melhor_valor\n",
        "\n",
        "def busca_bl2(lista_dna, alfabeto='ACGT'):\n",
        "    \"\"\"Busca local BL2 para encontrar a cadeia mais próxima.\"\"\"\n",
        "    inicio = time.time()\n",
        "    # Inicializa com uma cadeia aleatória\n",
        "    atual = ''.join(random.choice(alfabeto) for _ in range(len(lista_dna[0])))\n",
        "    valor_atual = funcao_objetivo(atual, lista_dna)\n",
        "    melhorou = True\n",
        "\n",
        "    while melhorou:\n",
        "        melhorou = False\n",
        "        vizinho, valor_vizinho = melhor_vizinho(atual, lista_dna, alfabeto)\n",
        "        if valor_vizinho < valor_atual:\n",
        "            atual = vizinho\n",
        "            valor_atual = valor_vizinho\n",
        "            melhorou = True\n",
        "\n",
        "    tempo_total = time.time() - inicio\n",
        "    return atual, valor_atual, tempo_total\n"
      ],
      "metadata": {
        "id": "2h5jxk_UfYeX"
      },
      "execution_count": null,
      "outputs": []
    },
    {
      "cell_type": "markdown",
      "source": [
        "###Algortimo Genetico"
      ],
      "metadata": {
        "id": "wQDWXF1bf15-"
      }
    },
    {
      "cell_type": "code",
      "source": [
        "def inicializar_populacao(tamanho, comprimento, alfabeto):\n",
        "    return [\n",
        "        ''.join(random.choice(alfabeto) for _ in range(comprimento))\n",
        "        for _ in range(tamanho)\n",
        "    ]\n",
        "\n",
        "def crossover(pai1, pai2):\n",
        "    ponto = random.randint(1, len(pai1) - 2)\n",
        "    filho1 = pai1[:ponto] + pai2[ponto:]\n",
        "    filho2 = pai2[:ponto] + pai1[ponto:]\n",
        "    return filho1, filho2\n",
        "\n",
        "def mutacao(cadeia, alfabeto, taxa=0.05):\n",
        "    nova = list(cadeia)\n",
        "    for i in range(len(nova)):\n",
        "        if random.random() < taxa:\n",
        "            nova[i] = random.choice([c for c in alfabeto if c != nova[i]])\n",
        "    return ''.join(nova)\n",
        "\n",
        "def selecao_roleta(populacao, aptidoes):\n",
        "    soma = sum(aptidoes)\n",
        "    pick = random.uniform(0, soma)\n",
        "    atual = 0\n",
        "    for individuo, aptidao in zip(populacao, aptidoes):\n",
        "        atual += aptidao\n",
        "        if atual > pick:\n",
        "            return individuo\n",
        "    return populacao[-1]\n",
        "\n",
        "def ag_dna(lista_dna, alfabeto='ACGT', geracoes=100, tamanho_pop=300, taxa_crossover=0.5, taxa_mutacao=0.05):\n",
        "    inicio = time.time()\n",
        "    comprimento = len(lista_dna[0])\n",
        "    populacao = inicializar_populacao(tamanho_pop, comprimento, alfabeto)\n",
        "\n",
        "    for geracao in range(geracoes):\n",
        "        aptidoes = [1 / (1 + funcao_objetivo(ind, lista_dna)) for ind in populacao]  # Quanto menor a função objetivo, maior a aptidão\n",
        "\n",
        "        # Seleção para crossover\n",
        "        nova_populacao = []\n",
        "        num_crossover = int(tamanho_pop * taxa_crossover // 2) * 2  # Sempre par\n",
        "        for _ in range(num_crossover // 2):\n",
        "            pai1 = selecao_roleta(populacao, aptidoes)\n",
        "            pai2 = selecao_roleta(populacao, aptidoes)\n",
        "            filho1, filho2 = crossover(pai1, pai2)\n",
        "            nova_populacao.extend([filho1, filho2])\n",
        "\n",
        "        # Completa a população com indivíduos da geração anterior (elitismo simples)\n",
        "        while len(nova_populacao) < tamanho_pop:\n",
        "            individuo = selecao_roleta(populacao, aptidoes)\n",
        "            nova_populacao.append(individuo)\n",
        "\n",
        "        # Mutação\n",
        "        populacao = [mutacao(ind, alfabeto, taxa_mutacao) for ind in nova_populacao]\n",
        "\n",
        "    # Seleciona o melhor indivíduo da última geração\n",
        "    valores = [funcao_objetivo(ind, lista_dna) for ind in populacao]\n",
        "    melhor_valor = min(valores)\n",
        "    melhor_indice = valores.index(melhor_valor)\n",
        "    melhor_individuo = populacao[melhor_indice]\n",
        "    tempo_total = time.time() - inicio\n",
        "\n",
        "    return melhor_individuo, melhor_valor, tempo_total\n"
      ],
      "metadata": {
        "id": "wnk5jxGXf6CE"
      },
      "execution_count": null,
      "outputs": []
    },
    {
      "cell_type": "markdown",
      "source": [
        "##Execuções"
      ],
      "metadata": {
        "id": "aN6yrixwf7Qb"
      }
    },
    {
      "cell_type": "code",
      "source": [
        "melhor, valor, tempo = ag_dna(lista_dna)\n",
        "print(\"Melhor cadeia encontrada:\", melhor)\n",
        "print(\"Valor da função objetivo:\", valor)\n",
        "print(\"Tempo computacional:\", tempo, \"segundos\")"
      ],
      "metadata": {
        "colab": {
          "base_uri": "https://localhost:8080/"
        },
        "id": "C10mekKjf-fx",
        "outputId": "0122db05-6a19-4e9c-f2f8-556da9a11516"
      },
      "execution_count": null,
      "outputs": [
        {
          "output_type": "stream",
          "name": "stdout",
          "text": [
            "Melhor cadeia encontrada: CTCATA\n",
            "Valor da função objetivo: 1225\n",
            "Tempo computacional: 6.2434844970703125 segundos\n"
          ]
        }
      ]
    },
    {
      "cell_type": "code",
      "source": [
        "melhor_cadeia, valor_funcao, tempo = busca_bl2(lista_dna)\n",
        "print(\"Melhor cadeia encontrada:\", melhor_cadeia)\n",
        "print(\"Valor da função objetivo:\", valor_funcao)\n",
        "print(\"Tempo computacional:\", tempo, \"segundos\")"
      ],
      "metadata": {
        "colab": {
          "base_uri": "https://localhost:8080/"
        },
        "id": "6rmnnpBZgCws",
        "outputId": "3da80626-c47b-414c-dc6f-3a920137d636"
      },
      "execution_count": null,
      "outputs": [
        {
          "output_type": "stream",
          "name": "stdout",
          "text": [
            "Melhor cadeia encontrada: ATAATA\n",
            "Valor da função objetivo: 1214\n",
            "Tempo computacional: 0.022832155227661133 segundos\n"
          ]
        }
      ]
    }
  ]
}