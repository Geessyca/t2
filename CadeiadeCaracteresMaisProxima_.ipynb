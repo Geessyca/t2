{
  "nbformat": 4,
  "nbformat_minor": 0,
  "metadata": {
    "colab": {
      "provenance": [],
      "authorship_tag": "ABX9TyNu8K1vxVMj9q8zJVe6Japt",
      "include_colab_link": true
    },
    "kernelspec": {
      "name": "python3",
      "display_name": "Python 3"
    },
    "language_info": {
      "name": "python"
    }
  },
  "cells": [
    {
      "cell_type": "markdown",
      "metadata": {
        "id": "view-in-github",
        "colab_type": "text"
      },
      "source": [
        "<a href=\"https://colab.research.google.com/github/Geessyca/t2/blob/main/CadeiadeCaracteresMaisProxima_.ipynb\" target=\"_parent\"><img src=\"https://colab.research.google.com/assets/colab-badge.svg\" alt=\"Open In Colab\"/></a>"
      ]
    },
    {
      "cell_type": "markdown",
      "source": [
        "## DNA sequence dataset"
      ],
      "metadata": {
        "id": "GCjZN0xUdig6"
      }
    },
    {
      "cell_type": "markdown",
      "source": [
        "### String de [sequência de DNA](https://www.kaggle.com/datasets/nageshsingh/dna-sequence-dataset/datatps://)"
      ],
      "metadata": {
        "id": "xlOlc1Q7d8Eo"
      }
    },
    {
      "cell_type": "code",
      "execution_count": 113,
      "metadata": {
        "id": "f01HodABcmlH"
      },
      "outputs": [],
      "source": [
        "string_dna=\"ATGCCCCAACTAAATACCGCCGTATGACCCACCATAATTACCCCCATACTCCTGACACTATTTCTCGTCACCCAACTAAAAATATTAAATTCAAATTACCATCTACCCCCCTCACCAAAACCCATAAAAATAAAAAACTACAATAAACCCTGAGAACCAAAATGAACGAAAATCTATTCGCTTCATTCGCTGCCCCCACAATCCTAGATGAACGAAAATCTATTCGCTTCATTCGCTGCCCCCACAATCCTAGGCTTACCCGCCGCAGTACTAATCATTCTATTCCCCCCTCTACTGGTCCCCACTTCTAAACATCTCATCAACAACCGACTAATTACCACCCAACAATGACTAATTCAACTGACCTCAAAACAAATAATAACTATACACAGCACTAAAGGACGAACCTGATCTCTCATACTAGTATCCTTAATCATTTTTATTACCACAACCAATCTTCTTGGGCTTCTACCCCACTCATTCACACCAACCACCCAACTATCTATAAACCTAGCCATGGCTATCCCCCTATGAGCAGGCGCAGTAGTCATAGGCTTTCGCTTTAAGACTAAAAATGCCCTAGCCCACTTCTTACCGCAAGGCACACCTACACCCCTTATCCCCATACTAGTTATCATCGAAACTATTAGCCTACTCATTCAACCAATAGCCTTAGCCGTACGTCTAACCGCTAACATTACTGCAGGCCACCTACTCATGCACCTAATTGGAAGCGCCACACTAGCATTATCAACTATCAATCTACCCTATGCACTCATTATCTTCACAATTCTAATCCTACTGACTATTCTAGAGATCGCCGTCGCCTTAATCCAAGCCTACGTTTTTACACTTCTAGTGAGCCTCTACCTGCACGACAACACATAAATGGCCTCGCGCTGGTGGCGGTGGCGACGCGGCTGCTCCTGGAGGCCGGCGGCGCGGAGCTCCGGGCCCGGCTCCCCAGGCCGTGCGGGACCGTCGGGGCCGAGCGCCGCTGCCGACGTCCGCGCGCAGGTTCATAGGCGGAAGGGACTTGACTTGTCTCAGATACCCTATATTAATCTTGTGAAGCATTTAACATCTGCCTGTCCAAATGTATGTCGTATATCACGGTTTCATCACACAACCCCAGACAGTAAAACACACAGTGGTGAAAAATACACCGATCCTTTCAAACTCGGTTGGAGAGACTTGAAAGGTCTGTATGAGGACATTAGAAAGGAACTGCTTATATCAACATCAGAACTTAAGGAAATGTCTGAGTACTACTTTGATGGGAAAGGGAAAGCCTTTCGACCAATTATTGTGGCGCTAATGGCCCGAGCATGCAATATTCATCATAACAACTCCCGACATGTGCAAGCCAGCCAGCGCACCATAGCCTTAATTGCAGAAATGATCCACACTGCTAGTCTGGTTCACGATGACGTTATTGACGATGCAAGTTCTCGAAGAGGAAAACACACAGTTAATAAGATCTGGGGTGAAAAGAAGGCTGTTCTTGCTGGAGATTTAATTCTTTCTGCAGCATCTATAGCTCTGGCACGAATTGGAAATACAACTGTTATATCTATTTTAACCCAAGTTATTGAAGATTTGGTGCGTGGTGAATTTCTTCAGCTCGGGTCAAAAGAAAATGAGAATGAAAGATTTGCACACTACCTTGAGAAGACGTTCAAGAAGACCGCCAGCCTGATAGCCAACAGTTGTAAAGCAGTCTCTGTTCTAGGATGTCCCGACCCAGTGGTGCATGAGATCGCCTATCAGTACGGAAAAAATGTAGGAATAGCTTTTCAG\""
      ]
    },
    {
      "cell_type": "markdown",
      "source": [
        "### Lista de sequência de DNA"
      ],
      "metadata": {
        "id": "MeWKeMJkdzTv"
      }
    },
    {
      "cell_type": "code",
      "source": [
        "lista_dna = [string_dna[i:i+6] for i in range(0, len(string_dna), 6)]\n",
        "lista_dna = lista_dna[:300]\n",
        "print(f\"Quantidade de itens da lista: {len(lista_dna)} \\n5 primeiros itens dessa lista: {','.join(lista_dna[:5])}\")"
      ],
      "metadata": {
        "colab": {
          "base_uri": "https://localhost:8080/"
        },
        "id": "2TqN3PyedUuI",
        "outputId": "f216332c-fe72-4597-a111-1cc76955aa29"
      },
      "execution_count": 114,
      "outputs": [
        {
          "output_type": "stream",
          "name": "stdout",
          "text": [
            "Quantidade de itens da lista: 300 \n",
            "5 primeiros itens dessa lista: ATGCCC,CAACTA,AATACC,GCCGTA,TGACCC\n"
          ]
        }
      ]
    },
    {
      "cell_type": "markdown",
      "source": [
        "## Metahelistcas"
      ],
      "metadata": {
        "id": "65x_Pdxle3Vu"
      }
    },
    {
      "cell_type": "markdown",
      "source": [
        "###Importações"
      ],
      "metadata": {
        "id": "OPfeI8lrfrH4"
      }
    },
    {
      "cell_type": "code",
      "source": [
        "import random\n",
        "import time"
      ],
      "metadata": {
        "id": "tqHpMIjJfdtB"
      },
      "execution_count": 115,
      "outputs": []
    },
    {
      "cell_type": "markdown",
      "source": [
        "###Avaliações"
      ],
      "metadata": {
        "id": "1NK-P1fdfwPP"
      }
    },
    {
      "cell_type": "code",
      "source": [
        "def distancia_hamming(s1, s2):\n",
        "    \"\"\"Calcula a distância de Hamming entre duas cadeias de caracteres.\"\"\"\n",
        "    distancia = 0\n",
        "    for c1, c2 in zip(s1, s2):\n",
        "        if c1 != c2:\n",
        "            distancia += 1\n",
        "    return distancia\n",
        "\n",
        "def funcao_objetivo(cadeia, lista_dna):\n",
        "    \"\"\"Soma das distâncias de Hamming entre a cadeia e todas as cadeias em lista_dna.\"\"\"\n",
        "    total_distancia = 0\n",
        "    for dna in lista_dna:\n",
        "        total_distancia += distancia_hamming(cadeia, dna)\n",
        "    return total_distancia"
      ],
      "metadata": {
        "id": "ObAxiSkCfzrx"
      },
      "execution_count": 116,
      "outputs": []
    },
    {
      "cell_type": "markdown",
      "source": [
        "###GRASP"
      ],
      "metadata": {
        "id": "u1K9FkKpe6CI"
      }
    },
    {
      "cell_type": "code",
      "source": [
        "def grasp(lista_dna, alfabeto='ACGT', max_iter=100):\n",
        "    comprimento = len(lista_dna[0])\n",
        "    melhor_solucao = None\n",
        "    melhor_valor = float('inf')\n",
        "    inicio_total = time.time()\n",
        "    for _ in range(max_iter):\n",
        "        # Construção: solução aleatória\n",
        "        atual = ''.join(random.choice(alfabeto) for _ in range(comprimento))\n",
        "        valor_atual = funcao_objetivo(atual, lista_dna)\n",
        "        melhorou = True\n",
        "        while melhorou:\n",
        "            melhorou = False\n",
        "            posicoes = list(range(comprimento))\n",
        "            random.shuffle(posicoes) #Aleatorizar as posições\n",
        "            for i in posicoes:\n",
        "                for c in alfabeto:\n",
        "                    if c == atual[i]:\n",
        "                        continue\n",
        "                    vizinho = atual[:i] + c + atual[i+1:]\n",
        "                    valor_vizinho = funcao_objetivo(vizinho, lista_dna)\n",
        "                    if valor_vizinho < valor_atual:\n",
        "                        atual = vizinho\n",
        "                        valor_atual = valor_vizinho\n",
        "                        melhorou = True\n",
        "                        break  # First improvement: sai do loop de caracteres\n",
        "                if melhorou:\n",
        "                    break  # Reinicia varredura de posições\n",
        "        # Atualiza melhor global\n",
        "        if valor_atual < melhor_valor:\n",
        "            melhor_valor = valor_atual\n",
        "            melhor_solucao = atual\n",
        "    tempo_total = time.time() - inicio_total\n",
        "    return melhor_solucao, melhor_valor, tempo_total\n"
      ],
      "metadata": {
        "id": "2h5jxk_UfYeX"
      },
      "execution_count": 117,
      "outputs": []
    },
    {
      "cell_type": "markdown",
      "source": [
        "###Algortimo Genetico"
      ],
      "metadata": {
        "id": "wQDWXF1bf15-"
      }
    },
    {
      "cell_type": "code",
      "source": [
        "def inicializar_populacao(tamanho, comprimento, alfabeto):\n",
        "    return [\n",
        "        ''.join(random.choice(alfabeto) for _ in range(comprimento))\n",
        "        for _ in range(tamanho)\n",
        "    ]\n",
        "\n",
        "def crossover(pai1, pai2):\n",
        "    ponto = random.randint(1, len(pai1) - 2)\n",
        "    filho1 = pai1[:ponto] + pai2[ponto:]\n",
        "    filho2 = pai2[:ponto] + pai1[ponto:]\n",
        "    return filho1, filho2\n",
        "\n",
        "def mutacao(cadeia, alfabeto, taxa=0.05):\n",
        "    nova = list(cadeia)\n",
        "    for i in range(len(nova)):\n",
        "        if random.random() < taxa:\n",
        "            nova[i] = random.choice([c for c in alfabeto if c != nova[i]])\n",
        "    return ''.join(nova)\n",
        "\n",
        "def selecao_roleta(populacao, aptidoes):\n",
        "    soma = sum(aptidoes)\n",
        "    pick = random.uniform(0, soma)\n",
        "    atual = 0\n",
        "    for individuo, aptidao in zip(populacao, aptidoes):\n",
        "        atual += aptidao\n",
        "        if atual > pick:\n",
        "            return individuo\n",
        "    return populacao[-1]\n",
        "\n",
        "def ag_dna(lista_dna, alfabeto='ACGT', geracoes=100, tamanho_pop=300, taxa_crossover=0.5, taxa_mutacao=0.05):\n",
        "    inicio = time.time()\n",
        "    comprimento = len(lista_dna[0])\n",
        "    populacao = inicializar_populacao(tamanho_pop, comprimento, alfabeto)\n",
        "\n",
        "    for geracao in range(geracoes):\n",
        "        aptidoes = [1 / (1 + funcao_objetivo(ind, lista_dna)) for ind in populacao]  # Quanto menor a função objetivo, maior a aptidão\n",
        "\n",
        "        # Seleção para crossover\n",
        "        nova_populacao = []\n",
        "        num_crossover = int(tamanho_pop * taxa_crossover // 2) * 2  # Sempre par\n",
        "        for _ in range(num_crossover // 2):\n",
        "            pai1 = selecao_roleta(populacao, aptidoes)\n",
        "            pai2 = selecao_roleta(populacao, aptidoes)\n",
        "            filho1, filho2 = crossover(pai1, pai2)\n",
        "            nova_populacao.extend([filho1, filho2])\n",
        "\n",
        "        # Completa a população com indivíduos da geração anterior (elitismo simples)\n",
        "        while len(nova_populacao) < tamanho_pop:\n",
        "            individuo = selecao_roleta(populacao, aptidoes)\n",
        "            nova_populacao.append(individuo)\n",
        "\n",
        "        # Mutação\n",
        "        populacao = [mutacao(ind, alfabeto, taxa_mutacao) for ind in nova_populacao]\n",
        "\n",
        "    # Seleciona o melhor indivíduo da última geração\n",
        "    valores = [funcao_objetivo(ind, lista_dna) for ind in populacao]\n",
        "    melhor_valor = min(valores)\n",
        "    melhor_indice = valores.index(melhor_valor)\n",
        "    melhor_individuo = populacao[melhor_indice]\n",
        "    tempo_total = time.time() - inicio\n",
        "\n",
        "    return melhor_individuo, melhor_valor, tempo_total\n"
      ],
      "metadata": {
        "id": "wnk5jxGXf6CE"
      },
      "execution_count": 118,
      "outputs": []
    },
    {
      "cell_type": "markdown",
      "source": [
        "##Execuções"
      ],
      "metadata": {
        "id": "aN6yrixwf7Qb"
      }
    },
    {
      "cell_type": "markdown",
      "source": [
        "###I"
      ],
      "metadata": {
        "id": "VxvRY4wiCa0v"
      }
    },
    {
      "cell_type": "code",
      "source": [
        "melhor, valor, tempo = ag_dna(lista_dna)\n",
        "print(\"Melhor cadeia encontrada:\", melhor)\n",
        "print(\"Valor da função objetivo:\", valor)\n",
        "print(\"Tempo computacional:\", tempo, \"segundos\")"
      ],
      "metadata": {
        "colab": {
          "base_uri": "https://localhost:8080/"
        },
        "id": "C10mekKjf-fx",
        "outputId": "7eb28c02-d930-449b-c055-b45ac75da54e"
      },
      "execution_count": 119,
      "outputs": [
        {
          "output_type": "stream",
          "name": "stdout",
          "text": [
            "Melhor cadeia encontrada: CTAACA\n",
            "Valor da função objetivo: 1229\n",
            "Tempo computacional: 7.1474668979644775 segundos\n"
          ]
        }
      ]
    },
    {
      "cell_type": "code",
      "source": [
        "melhor_cadeia, valor_funcao, tempo = grasp(lista_dna)\n",
        "print(\"Melhor cadeia encontrada:\", melhor_cadeia)\n",
        "print(\"Valor da função objetivo:\", valor_funcao)\n",
        "print(\"Tempo computacional:\", tempo, \"segundos\")"
      ],
      "metadata": {
        "colab": {
          "base_uri": "https://localhost:8080/"
        },
        "id": "6rmnnpBZgCws",
        "outputId": "a067e218-30f0-4b9b-dfb3-3c64ab194d7a"
      },
      "execution_count": 120,
      "outputs": [
        {
          "output_type": "stream",
          "name": "stdout",
          "text": [
            "Melhor cadeia encontrada: ATAATA\n",
            "Valor da função objetivo: 1214\n",
            "Tempo computacional: 0.9129407405853271 segundos\n"
          ]
        }
      ]
    },
    {
      "cell_type": "markdown",
      "source": [
        "###II"
      ],
      "metadata": {
        "id": "sHrCLHmuCjm3"
      }
    },
    {
      "cell_type": "code",
      "source": [
        "melhor, valor, tempo = ag_dna(lista_dna)\n",
        "print(\"Melhor cadeia encontrada:\", melhor)\n",
        "print(\"Valor da função objetivo:\", valor)\n",
        "print(\"Tempo computacional:\", tempo, \"segundos\")"
      ],
      "metadata": {
        "colab": {
          "base_uri": "https://localhost:8080/"
        },
        "outputId": "9290e5c6-b91a-4a18-e981-d067ea3f4e12",
        "id": "Bwuzq2NlCjm3"
      },
      "execution_count": 124,
      "outputs": [
        {
          "output_type": "stream",
          "name": "stdout",
          "text": [
            "Melhor cadeia encontrada: CTCATT\n",
            "Valor da função objetivo: 1241\n",
            "Tempo computacional: 7.0397961139678955 segundos\n"
          ]
        }
      ]
    },
    {
      "cell_type": "code",
      "source": [
        "melhor_cadeia, valor_funcao, tempo = grasp(lista_dna)\n",
        "print(\"Melhor cadeia encontrada:\", melhor_cadeia)\n",
        "print(\"Valor da função objetivo:\", valor_funcao)\n",
        "print(\"Tempo computacional:\", tempo, \"segundos\")"
      ],
      "metadata": {
        "colab": {
          "base_uri": "https://localhost:8080/"
        },
        "outputId": "fcbca21c-f223-485b-af85-56290b275a24",
        "id": "qbMImmPKCjm4"
      },
      "execution_count": 125,
      "outputs": [
        {
          "output_type": "stream",
          "name": "stdout",
          "text": [
            "Melhor cadeia encontrada: ATAATA\n",
            "Valor da função objetivo: 1214\n",
            "Tempo computacional: 1.0043985843658447 segundos\n"
          ]
        }
      ]
    },
    {
      "cell_type": "markdown",
      "source": [
        "###Estrutura da solução"
      ],
      "metadata": {
        "id": "DBMdnyf0CdtI"
      }
    },
    {
      "cell_type": "code",
      "source": [
        "solucao=\"ACGTGC\""
      ],
      "metadata": {
        "id": "cFkxIFr-9sDn"
      },
      "execution_count": 123,
      "outputs": []
    }
  ]
}